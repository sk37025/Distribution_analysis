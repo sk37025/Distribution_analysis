{
 "cells": [
  {
   "cell_type": "markdown",
   "metadata": {},
   "source": [
    "# short discussions on KDE plot"
   ]
  },
  {
   "cell_type": "markdown",
   "metadata": {},
   "source": [
    "- 본 md 파일은 [pega님의 블로그](https://jehyunlee.github.io/2022/05/27/Python-DS-102-kdeplot/)를 보고, KDE plot이 가지는 의미 그리고 한계점을 다시 한번 정리하고자 작성하였습니다.  "
   ]
  },
  {
   "cell_type": "markdown",
   "metadata": {},
   "source": [
    "## 0. 시작\n",
    "\n",
    "- 현대 대한민국의 가장 큰 화두 중 하나는 `공정`입니다.   \n",
    "- 기회의 공정, 결과의 공정, 또는 떨어질 때 떨어지더라도 이유라도 알자는 의미의 공정.\n",
    "- 다 방면에서 서로 다른 의미로 공정이라는 단어가 오르내리고 있으며 공정과 함께 자주 나오는 키워드는 `부모찬스`입니다.\n",
    "- 이와 관련해서 [경향신문](https://www.khan.co.kr/national/national-general/article/202205250600005)과 [언더스코어](http://underscore.kr/)에서는 의미있는 분석을 시도하였습니다.  "
   ]
  },
  {
   "cell_type": "markdown",
   "metadata": {},
   "source": [
    "![IMAGE](./img/kde_plot_img1.png)"
   ]
  },
  {
   "cell_type": "markdown",
   "metadata": {},
   "source": [
    "## 1. KDE plot\n",
    "\n",
    "> Kernel Density Estimation\n",
    "\n",
    "- 설문 결과 분포를 표현하기 위해 기사에서 사용된 시각화 기법을 `KDE plot`이라고 합니다.   \n",
    "- Kernel Density Plot의 약자이며, 히스토그램이 가지고 있는 단점을 보완하기 위해 제안된 방식입니다. \n",
    "\n",
    "__히스토그램 vs KDE plot__ \n",
    "\n",
    "- 히스토그램 : 구간별 데이터 수를 bar plot 형식으로 표현\n",
    "\n",
    "- KDE plot : 각 데이터로 밀도 분포를 추정하여 합산하는 방식\n",
    "\n",
    "![IMAGE](./img/kde_plot_img2.png)"
   ]
  },
  {
   "cell_type": "markdown",
   "metadata": {},
   "source": [
    "## 2. seaborn histogram vs kdeplot \n",
    "\n",
    "### 2.1 예제 데이터 \n",
    "\n",
    "- seaborn에서 제공하는 Penguin dataset을 사용합니다. \n",
    "- 펭귄들의 체중 데이터를 그림으로 그려보겠습니다. "
   ]
  },
  {
   "cell_type": "code",
   "execution_count": 1,
   "metadata": {},
   "outputs": [
    {
     "data": {
      "text/html": [
       "<div>\n",
       "<style scoped>\n",
       "    .dataframe tbody tr th:only-of-type {\n",
       "        vertical-align: middle;\n",
       "    }\n",
       "\n",
       "    .dataframe tbody tr th {\n",
       "        vertical-align: top;\n",
       "    }\n",
       "\n",
       "    .dataframe thead th {\n",
       "        text-align: right;\n",
       "    }\n",
       "</style>\n",
       "<table border=\"1\" class=\"dataframe\">\n",
       "  <thead>\n",
       "    <tr style=\"text-align: right;\">\n",
       "      <th></th>\n",
       "      <th>species</th>\n",
       "      <th>island</th>\n",
       "      <th>bill_length_mm</th>\n",
       "      <th>bill_depth_mm</th>\n",
       "      <th>flipper_length_mm</th>\n",
       "      <th>body_mass_g</th>\n",
       "      <th>sex</th>\n",
       "    </tr>\n",
       "  </thead>\n",
       "  <tbody>\n",
       "    <tr>\n",
       "      <th>0</th>\n",
       "      <td>Adelie</td>\n",
       "      <td>Torgersen</td>\n",
       "      <td>39.1</td>\n",
       "      <td>18.7</td>\n",
       "      <td>181.0</td>\n",
       "      <td>3750.0</td>\n",
       "      <td>Male</td>\n",
       "    </tr>\n",
       "    <tr>\n",
       "      <th>1</th>\n",
       "      <td>Adelie</td>\n",
       "      <td>Torgersen</td>\n",
       "      <td>39.5</td>\n",
       "      <td>17.4</td>\n",
       "      <td>186.0</td>\n",
       "      <td>3800.0</td>\n",
       "      <td>Female</td>\n",
       "    </tr>\n",
       "    <tr>\n",
       "      <th>2</th>\n",
       "      <td>Adelie</td>\n",
       "      <td>Torgersen</td>\n",
       "      <td>40.3</td>\n",
       "      <td>18.0</td>\n",
       "      <td>195.0</td>\n",
       "      <td>3250.0</td>\n",
       "      <td>Female</td>\n",
       "    </tr>\n",
       "    <tr>\n",
       "      <th>3</th>\n",
       "      <td>Adelie</td>\n",
       "      <td>Torgersen</td>\n",
       "      <td>NaN</td>\n",
       "      <td>NaN</td>\n",
       "      <td>NaN</td>\n",
       "      <td>NaN</td>\n",
       "      <td>NaN</td>\n",
       "    </tr>\n",
       "    <tr>\n",
       "      <th>4</th>\n",
       "      <td>Adelie</td>\n",
       "      <td>Torgersen</td>\n",
       "      <td>36.7</td>\n",
       "      <td>19.3</td>\n",
       "      <td>193.0</td>\n",
       "      <td>3450.0</td>\n",
       "      <td>Female</td>\n",
       "    </tr>\n",
       "  </tbody>\n",
       "</table>\n",
       "</div>"
      ],
      "text/plain": [
       "  species     island  bill_length_mm  bill_depth_mm  flipper_length_mm  \\\n",
       "0  Adelie  Torgersen            39.1           18.7              181.0   \n",
       "1  Adelie  Torgersen            39.5           17.4              186.0   \n",
       "2  Adelie  Torgersen            40.3           18.0              195.0   \n",
       "3  Adelie  Torgersen             NaN            NaN                NaN   \n",
       "4  Adelie  Torgersen            36.7           19.3              193.0   \n",
       "\n",
       "   body_mass_g     sex  \n",
       "0       3750.0    Male  \n",
       "1       3800.0  Female  \n",
       "2       3250.0  Female  \n",
       "3          NaN     NaN  \n",
       "4       3450.0  Female  "
      ]
     },
     "execution_count": 1,
     "metadata": {},
     "output_type": "execute_result"
    }
   ],
   "source": [
    "%matplotlib inline \n",
    "\n",
    "import matplotlib.pyplot as plt \n",
    "import seaborn as sns \n",
    "\n",
    "sns.set_style(\"ticks\")\n",
    "sns.set_context(\"talk\")\n",
    "sns.set_palette(\"colorblind\")\n",
    "\n",
    "# penguins dataset 불러오기 \n",
    "df_peng = sns.load_dataset(\"penguins\")\n",
    "df_peng.head()"
   ]
  },
  {
   "cell_type": "markdown",
   "metadata": {},
   "source": [
    "### 2.2 histogram vs KDE plot \n",
    "\n",
    "- histogram과 KDE plot을 차례로 그려 비교해봅니다.\n",
    "- histogram은 구간(bins) 수에 따라 모양이 변합니다. \n",
    "- 이 글은 KDE plot의 특징에 집중하기에 코드는 따로 설명 하지 않습니다."
   ]
  },
  {
   "cell_type": "code",
   "execution_count": null,
   "metadata": {},
   "outputs": [],
   "source": [
    "from matplotlib.patches import Circle\n",
    "\n",
    "vmin, vmax = df_peng['body_mass_g'].min(), df_peng['body_mass_g'].max()\n",
    "\n",
    "fig,axes = plt.subplots(ncols =3, figsize=[10,3.5], constrained_layout = True)\n",
    "\n",
    "for i,ax in enumerate(axes,1):\n",
    "    sns.histplot(x = \"body_mass_g\",data = df_peng, bins = 10*i,ax = ax)\n",
    "    ax.set_title(f\"bins = {10*i}\",pad=12, color = \"gray\")\n",
    "    ymin, ymax = ax.get_ylim()\n",
    "\n",
    "    # Changes\n",
    "    circle0 = Circle((0.5,0.5),0.17,fc = \"none\", ec = \"r\", lw = 3, alpha =0.5, transform = ax.transAxes)\n",
    "    circle1 = Circle((0.8,0.27),0.17,fc = \"none\", ec = \"r\", lw = 3, alpha =0.5, transform = ax.transAxes)\n",
    "    ax.add_patch(circle0)\n",
    "    ax.add_patch(circle1)  \n",
    "\n",
    "    # data min, max\n",
    "    ax.axvline(vmin, c = \"orange\",lw =3, alpha =0.5)\n",
    "    ax.axvline(vmax, c = \"orange\",lw =3, alpha =0.5)\n"
   ]
  }
 ],
 "metadata": {
  "interpreter": {
   "hash": "5687db5e6823d6cd39f8eca0a656664451ad80261255c09a6d7d8d78b6af25cc"
  },
  "kernelspec": {
   "display_name": "Python 3.7.13 ('dvc-cml')",
   "language": "python",
   "name": "python3"
  },
  "language_info": {
   "codemirror_mode": {
    "name": "ipython",
    "version": 3
   },
   "file_extension": ".py",
   "mimetype": "text/x-python",
   "name": "python",
   "nbconvert_exporter": "python",
   "pygments_lexer": "ipython3",
   "version": "3.7.13"
  },
  "orig_nbformat": 4
 },
 "nbformat": 4,
 "nbformat_minor": 2
}
